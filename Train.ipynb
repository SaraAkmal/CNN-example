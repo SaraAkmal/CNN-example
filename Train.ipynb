{
 "cells": [
  {
   "cell_type": "code",
   "execution_count": 78,
   "metadata": {},
   "outputs": [],
   "source": [
    "import random\n",
    "import tensorflow as tf\n",
    "from pathlib import Path\n",
    "import numpy as np\n",
    "import matplotlib.pyplot as plt\n",
    "import os\n",
    "import cv2\n",
    "from tensorflow.keras.models import Sequential\n",
    "from tensorflow.keras.layers import Dense, Dropout, Activation, Flatten\n",
    "from tensorflow.keras.layers import Conv2D, MaxPooling2D\n",
    "from keras.utils.np_utils import to_categorical\n",
    "from sklearn.model_selection import train_test_split\n",
    "from tensorflow.keras.callbacks import TensorBoard"
   ]
  },
  {
   "cell_type": "code",
   "execution_count": 79,
   "metadata": {},
   "outputs": [],
   "source": [
    "def Load_data(directory,IMG_SIZE):\n",
    "    data = []\n",
    "    CATEGORIES = [\"0\",\"1\",\"2\",\"3\",\"4\",\"5\",\"6\",\"7\",\"8\",\"9\"] #labels for each folder\n",
    "    for category in CATEGORIES: \n",
    "        path = os.path.join(directory,category)  # create path to each folder\n",
    "        class_label = CATEGORIES.index(category)  # get the classification  0,1,2,3,4,5,6,7,8,9 according to index\n",
    "        for img in os.listdir(path):  # iterate over each image per folder\n",
    "                image = cv2.imread(os.path.join(path,img))  #read image\n",
    "                resized_image = cv2.resize(image, (IMG_SIZE, IMG_SIZE))  # resize to normalize data size\n",
    "                data.append([resized_image, class_label])  #add this to our data array     \n",
    "    random.shuffle(data) #shuffle data randomally to correctly train on different images\n",
    "    trainX = []\n",
    "    trainY = []\n",
    "    for image,label in data: #seperate the data from the labels into two arrays\n",
    "        trainX.append(image)\n",
    "        trainY.append(label) \n",
    "    trainX = np.array(trainX).reshape((-1, IMG_SIZE, IMG_SIZE, 3))   #reshape training data with three channels (rgb)\n",
    "    \n",
    "    trainX = trainX.astype('float32')   # convert from integers to floats      \n",
    "    trainX = trainX / 255.0             # normalize so that data ranges from 0 to 1 \n",
    "    trainY = to_categorical(trainY,10)  # seperate labels into 10 different categories\n",
    "    # Split the data into validation and training\n",
    "    trainX, X_valid, trainY, Y_valid = train_test_split(trainX, trainY, test_size=0.2, shuffle= True)   \n",
    "    return trainX, X_valid, trainY, Y_valid \n",
    "        "
   ]
  },
  {
   "cell_type": "code",
   "execution_count": 80,
   "metadata": {},
   "outputs": [],
   "source": [
    "def Train(images_array,label_array,IMG_SIZE,X_valid, Y_valid):\n",
    "    NAME = \"Digits-CNN-28x28\"\n",
    "    tensorboard = TensorBoard(log_dir=\"logs\\\\fit\\\\\".format(NAME))\n",
    "    model = Sequential()\n",
    "    # input layer \n",
    "    # 32 filters with 3x3 kernel, He weight initialization, input shape according to image size 28x28 and 3 channels  \n",
    "    # output 32x26x26\n",
    "    model.add(Conv2D(32, (3, 3), activation='relu', kernel_initializer='he_uniform', input_shape=(IMG_SIZE, IMG_SIZE, 3)))\n",
    "    # hidden layer   \n",
    "    # Pooling to down sample the input data \n",
    "    # output 32x13x13\n",
    "    model.add(MaxPooling2D((2, 2))) \n",
    "    # hidden layer    \n",
    "    # Flatten data to convert it to 1D array for the fully connected layer\n",
    "    # output 5408\n",
    "    model.add(Flatten())  \n",
    "    # hidden layer \n",
    "    # output 100 nodes \n",
    "    model.add(Dense(100, activation='relu', kernel_initializer='he_uniform'))\n",
    "    # output layer\n",
    "    # softmax function for categorical classification \n",
    "    # output 10 nodes \n",
    "    model.add(Dense(10, activation='softmax'))    \n",
    "   \n",
    "    # compile model\n",
    "    model.compile( optimizer='adam', loss='categorical_crossentropy', metrics=['accuracy'])\n",
    "    model.fit(images_array, label_array, epochs=5, batch_size=32,validation_data=(X_valid, Y_valid),callbacks=[tensorboard])\n",
    "    return model"
   ]
  },
  {
   "cell_type": "code",
   "execution_count": null,
   "metadata": {},
   "outputs": [],
   "source": []
  },
  {
   "cell_type": "code",
   "execution_count": 81,
   "metadata": {},
   "outputs": [],
   "source": [
    "directory = \"C:/Users/sarak/JuypNotebooks/CNN/trainingSet\"\n",
    "images_array, X_valid, label_array, Y_valid= Load_data(directory,28)"
   ]
  },
  {
   "cell_type": "code",
   "execution_count": null,
   "metadata": {},
   "outputs": [
    {
     "name": "stdout",
     "output_type": "stream",
     "text": [
      "Train on 33600 samples, validate on 8400 samples\n",
      "Epoch 1/5\n",
      "14528/33600 [===========>..................] - ETA: 16s - loss: 0.2484 - accuracy: 0.9230"
     ]
    }
   ],
   "source": [
    "model = Train(images_array,label_array,28,X_valid, Y_valid)"
   ]
  },
  {
   "cell_type": "code",
   "execution_count": 77,
   "metadata": {},
   "outputs": [
    {
     "name": "stdout",
     "output_type": "stream",
     "text": [
      "Model: \"sequential_5\"\n",
      "_________________________________________________________________\n",
      "Layer (type)                 Output Shape              Param #   \n",
      "=================================================================\n",
      "conv2d_5 (Conv2D)            (None, 26, 26, 32)        896       \n",
      "_________________________________________________________________\n",
      "max_pooling2d_5 (MaxPooling2 (None, 13, 13, 32)        0         \n",
      "_________________________________________________________________\n",
      "flatten_5 (Flatten)          (None, 5408)              0         \n",
      "_________________________________________________________________\n",
      "dense_10 (Dense)             (None, 100)               540900    \n",
      "_________________________________________________________________\n",
      "dense_11 (Dense)             (None, 10)                1010      \n",
      "=================================================================\n",
      "Total params: 542,806\n",
      "Trainable params: 542,806\n",
      "Non-trainable params: 0\n",
      "_________________________________________________________________\n"
     ]
    }
   ],
   "source": [
    "model.summary()\n",
    "model.save('cnn.h5')"
   ]
  },
  {
   "cell_type": "code",
   "execution_count": 7,
   "metadata": {},
   "outputs": [],
   "source": [
    "def PredictImage(i):\n",
    "    img = X_valid[i]\n",
    "    plt.figure(figsize=(5, 5))\n",
    "    plt.imshow(img, cmap = 'gray',interpolation='nearest')\n",
    "    img_array = cv2.resize(img, (28, 28))\n",
    "    img_array = np.expand_dims(img_array, axis=(0))\n",
    "    predictions = model.predict_classes(img_array)\n",
    "    print(\"Prediction output:\",predictions)\n",
    "    print(\"Label:\",Y_valid[i])"
   ]
  },
  {
   "cell_type": "code",
   "execution_count": 8,
   "metadata": {},
   "outputs": [
    {
     "name": "stdout",
     "output_type": "stream",
     "text": [
      "Prediction output: [1]\n",
      "Label: [0. 1. 0. 0. 0. 0. 0. 0. 0. 0.]\n"
     ]
    },
    {
     "data": {
      "image/png": "[encoded data removed]",
      "text/plain": [
       "<Figure size 360x360 with 1 Axes>"
      ]
     },
     "metadata": {
      "needs_background": "light"
     },
     "output_type": "display_data"
    }
   ],
   "source": [
    "PredictImage(11)"
   ]
  },
  {
   "cell_type": "code",
   "execution_count": 9,
   "metadata": {},
   "outputs": [
    {
     "name": "stdout",
     "output_type": "stream",
     "text": [
      "Prediction output: [4]\n",
      "Label: [0. 0. 0. 0. 1. 0. 0. 0. 0. 0.]\n"
     ]
    },
    {
     "data": {
      "image/png": "[encoded data removed]",
      "text/plain": [
       "<Figure size 360x360 with 1 Axes>"
      ]
     },
     "metadata": {
      "needs_background": "light"
     },
     "output_type": "display_data"
    }
   ],
   "source": [
    "PredictImage(9)"
   ]
  },
  {
   "cell_type": "code",
   "execution_count": 11,
   "metadata": {},
   "outputs": [
    {
     "name": "stdout",
     "output_type": "stream",
     "text": [
      "Prediction output: [8]\n",
      "Label: [0. 0. 0. 0. 0. 0. 0. 0. 1. 0.]\n"
     ]
    },
    {
     "data": {
      "image/png": "[encoded data removed]",
      "text/plain": [
       "<Figure size 360x360 with 1 Axes>"
      ]
     },
     "metadata": {
      "needs_background": "light"
     },
     "output_type": "display_data"
    }
   ],
   "source": [
    "PredictImage(12)"
   ]
  },
  {
   "cell_type": "code",
   "execution_count": null,
   "metadata": {},
   "outputs": [],
   "source": []
  },
  {
   "cell_type": "code",
   "execution_count": null,
   "metadata": {},
   "outputs": [],
   "source": []
  },
  {
   "cell_type": "code",
   "execution_count": null,
   "metadata": {},
   "outputs": [],
   "source": []
  },
  {
   "cell_type": "code",
   "execution_count": null,
   "metadata": {},
   "outputs": [],
   "source": []
  }
 ],
 "metadata": {
  "kernelspec": {
   "display_name": "Python 3",
   "language": "python",
   "name": "python3"
  },
  "language_info": {
   "codemirror_mode": {
    "name": "ipython",
    "version": 3
   },
   "file_extension": ".py",
   "mimetype": "text/x-python",
   "name": "python",
   "nbconvert_exporter": "python",
   "pygments_lexer": "ipython3",
   "version": "3.7.9"
  }
 },
 "nbformat": 4,
 "nbformat_minor": 4
}
